{
 "cells": [
  {
   "cell_type": "code",
   "execution_count": 1,
   "id": "1555c240",
   "metadata": {
    "_cell_guid": "b1076dfc-b9ad-4769-8c92-a6c4dae69d19",
    "_uuid": "8f2839f25d086af736a60e9eeb907d3b93b6e0e5",
    "execution": {
     "iopub.execute_input": "2024-08-20T18:46:56.277420Z",
     "iopub.status.busy": "2024-08-20T18:46:56.276954Z",
     "iopub.status.idle": "2024-08-20T18:46:57.211022Z",
     "shell.execute_reply": "2024-08-20T18:46:57.209706Z"
    },
    "papermill": {
     "duration": 0.948443,
     "end_time": "2024-08-20T18:46:57.213932",
     "exception": false,
     "start_time": "2024-08-20T18:46:56.265489",
     "status": "completed"
    },
    "tags": []
   },
   "outputs": [
    {
     "name": "stdout",
     "output_type": "stream",
     "text": [
      "/kaggle/input/pivot-table-csv/pivot_table.csv\n",
      "/kaggle/input/movie-titles-csv/movie_titles.csv\n"
     ]
    }
   ],
   "source": [
    "# This Python 3 environment comes with many helpful analytics libraries installed\n",
    "# It is defined by the kaggle/python Docker image: https://github.com/kaggle/docker-python\n",
    "# For example, here's several helpful packages to load\n",
    "\n",
    "import numpy as np # linear algebra\n",
    "import pandas as pd # data processing, CSV file I/O (e.g. pd.read_csv)\n",
    "\n",
    "# Input data files are available in the read-only \"../input/\" directory\n",
    "# For example, running this (by clicking run or pressing Shift+Enter) will list all files under the input directory\n",
    "\n",
    "import os\n",
    "for dirname, _, filenames in os.walk('/kaggle/input'):\n",
    "    for filename in filenames:\n",
    "        print(os.path.join(dirname, filename))\n",
    "\n",
    "# You can write up to 20GB to the current directory (/kaggle/working/) that gets preserved as output when you create a version using \"Save & Run All\" \n",
    "# You can also write temporary files to /kaggle/temp/, but they won't be saved outside of the current session"
   ]
  },
  {
   "cell_type": "code",
   "execution_count": 2,
   "id": "497fc732",
   "metadata": {
    "execution": {
     "iopub.execute_input": "2024-08-20T18:46:57.234549Z",
     "iopub.status.busy": "2024-08-20T18:46:57.233938Z",
     "iopub.status.idle": "2024-08-20T18:46:57.239267Z",
     "shell.execute_reply": "2024-08-20T18:46:57.238105Z"
    },
    "papermill": {
     "duration": 0.018697,
     "end_time": "2024-08-20T18:46:57.241769",
     "exception": false,
     "start_time": "2024-08-20T18:46:57.223072",
     "status": "completed"
    },
    "tags": []
   },
   "outputs": [],
   "source": [
    "# df_p = pd.read_csv('/kaggle/input/pivot-table-csv/pivot_table.csv', index_col=0)\n",
    "# df_p.head()"
   ]
  },
  {
   "cell_type": "code",
   "execution_count": 3,
   "id": "9f36bd04",
   "metadata": {
    "execution": {
     "iopub.execute_input": "2024-08-20T18:46:57.262803Z",
     "iopub.status.busy": "2024-08-20T18:46:57.261718Z",
     "iopub.status.idle": "2024-08-20T18:46:57.267117Z",
     "shell.execute_reply": "2024-08-20T18:46:57.265924Z"
    },
    "papermill": {
     "duration": 0.018745,
     "end_time": "2024-08-20T18:46:57.269526",
     "exception": false,
     "start_time": "2024-08-20T18:46:57.250781",
     "status": "completed"
    },
    "tags": []
   },
   "outputs": [],
   "source": [
    "# print(df_p.info())"
   ]
  },
  {
   "cell_type": "code",
   "execution_count": 4,
   "id": "694413f3",
   "metadata": {
    "execution": {
     "iopub.execute_input": "2024-08-20T18:46:57.290622Z",
     "iopub.status.busy": "2024-08-20T18:46:57.289461Z",
     "iopub.status.idle": "2024-08-20T18:46:57.294729Z",
     "shell.execute_reply": "2024-08-20T18:46:57.293675Z"
    },
    "papermill": {
     "duration": 0.018479,
     "end_time": "2024-08-20T18:46:57.297282",
     "exception": false,
     "start_time": "2024-08-20T18:46:57.278803",
     "status": "completed"
    },
    "tags": []
   },
   "outputs": [],
   "source": [
    "# print(df_p.describe())"
   ]
  },
  {
   "cell_type": "code",
   "execution_count": 5,
   "id": "8b4420e1",
   "metadata": {
    "execution": {
     "iopub.execute_input": "2024-08-20T18:46:57.317949Z",
     "iopub.status.busy": "2024-08-20T18:46:57.317064Z",
     "iopub.status.idle": "2024-08-20T18:46:57.322114Z",
     "shell.execute_reply": "2024-08-20T18:46:57.321018Z"
    },
    "papermill": {
     "duration": 0.018076,
     "end_time": "2024-08-20T18:46:57.324444",
     "exception": false,
     "start_time": "2024-08-20T18:46:57.306368",
     "status": "completed"
    },
    "tags": []
   },
   "outputs": [],
   "source": [
    "# print(df_p.isnull().sum())"
   ]
  },
  {
   "cell_type": "code",
   "execution_count": 6,
   "id": "c19b0fcb",
   "metadata": {
    "execution": {
     "iopub.execute_input": "2024-08-20T18:46:57.344890Z",
     "iopub.status.busy": "2024-08-20T18:46:57.343835Z",
     "iopub.status.idle": "2024-08-20T18:46:57.349697Z",
     "shell.execute_reply": "2024-08-20T18:46:57.348388Z"
    },
    "papermill": {
     "duration": 0.018905,
     "end_time": "2024-08-20T18:46:57.352266",
     "exception": false,
     "start_time": "2024-08-20T18:46:57.333361",
     "status": "completed"
    },
    "tags": []
   },
   "outputs": [],
   "source": [
    "# print(df_p.shape)"
   ]
  },
  {
   "cell_type": "code",
   "execution_count": 7,
   "id": "5a78af44",
   "metadata": {
    "execution": {
     "iopub.execute_input": "2024-08-20T18:46:57.372592Z",
     "iopub.status.busy": "2024-08-20T18:46:57.372134Z",
     "iopub.status.idle": "2024-08-20T18:46:58.629679Z",
     "shell.execute_reply": "2024-08-20T18:46:58.628337Z"
    },
    "papermill": {
     "duration": 1.271587,
     "end_time": "2024-08-20T18:46:58.632946",
     "exception": false,
     "start_time": "2024-08-20T18:46:57.361359",
     "status": "completed"
    },
    "tags": []
   },
   "outputs": [],
   "source": [
    "import seaborn as sns\n",
    "import matplotlib.pyplot as plt\n",
    "\n",
    "# plt.figure(figsize=(12, 8))\n",
    "# sns.heatmap(df_p.isnull(), cbar=False, cmap='viridis')\n",
    "# plt.title('Missing Values Heatmap')\n",
    "# plt.show()"
   ]
  },
  {
   "cell_type": "code",
   "execution_count": 8,
   "id": "67d772a9",
   "metadata": {
    "execution": {
     "iopub.execute_input": "2024-08-20T18:46:58.653303Z",
     "iopub.status.busy": "2024-08-20T18:46:58.652814Z",
     "iopub.status.idle": "2024-08-20T18:46:58.757242Z",
     "shell.execute_reply": "2024-08-20T18:46:58.756167Z"
    },
    "papermill": {
     "duration": 0.118287,
     "end_time": "2024-08-20T18:46:58.760443",
     "exception": false,
     "start_time": "2024-08-20T18:46:58.642156",
     "status": "completed"
    },
    "tags": []
   },
   "outputs": [],
   "source": [
    "from surprise import Dataset, Reader, KNNBasic, accuracy\n",
    "from surprise.model_selection import train_test_split, GridSearchCV"
   ]
  },
  {
   "cell_type": "code",
   "execution_count": 9,
   "id": "8b5f9dc8",
   "metadata": {
    "execution": {
     "iopub.execute_input": "2024-08-20T18:46:58.780643Z",
     "iopub.status.busy": "2024-08-20T18:46:58.780048Z",
     "iopub.status.idle": "2024-08-20T18:47:22.122093Z",
     "shell.execute_reply": "2024-08-20T18:47:22.120528Z"
    },
    "papermill": {
     "duration": 23.355776,
     "end_time": "2024-08-20T18:47:22.125396",
     "exception": false,
     "start_time": "2024-08-20T18:46:58.769620",
     "status": "completed"
    },
    "tags": []
   },
   "outputs": [
    {
     "name": "stdout",
     "output_type": "stream",
     "text": [
      "Index(['3', '8', '16', '17', '18', '26', '28', '30', '32', '33',\n",
      "       ...\n",
      "       '4472', '4474', '4478', '4479', '4485', '4488', '4490', '4492', '4493',\n",
      "       '4496'],\n",
      "      dtype='object', length=1350)\n"
     ]
    }
   ],
   "source": [
    "import pandas as pd\n",
    "import numpy as np\n",
    "import time\n",
    "df_pivot = pd.read_csv('/kaggle/input/pivot-table-csv/pivot_table.csv', index_col=0)\n",
    "print(df_pivot.columns)"
   ]
  },
  {
   "cell_type": "code",
   "execution_count": 10,
   "id": "7920aab9",
   "metadata": {
    "execution": {
     "iopub.execute_input": "2024-08-20T18:47:22.147283Z",
     "iopub.status.busy": "2024-08-20T18:47:22.145725Z",
     "iopub.status.idle": "2024-08-20T18:47:58.033384Z",
     "shell.execute_reply": "2024-08-20T18:47:58.031931Z"
    },
    "papermill": {
     "duration": 35.902039,
     "end_time": "2024-08-20T18:47:58.036904",
     "exception": false,
     "start_time": "2024-08-20T18:47:22.134865",
     "status": "completed"
    },
    "tags": []
   },
   "outputs": [
    {
     "name": "stdout",
     "output_type": "stream",
     "text": [
      "Index(['Cust_Id', 'Movie_Id', 'Rating'], dtype='object')\n"
     ]
    }
   ],
   "source": [
    "df_melt = df_pivot.stack().reset_index().rename(columns={'level_1': 'Movie_Id', 0: 'Rating'})\n",
    "print(df_melt.columns)\n",
    "reader = Reader(rating_scale=(1, 5))\n",
    "data = Dataset.load_from_df(df_melt[['Cust_Id', 'Movie_Id', 'Rating']], reader)"
   ]
  },
  {
   "cell_type": "code",
   "execution_count": 11,
   "id": "7258ccbd",
   "metadata": {
    "execution": {
     "iopub.execute_input": "2024-08-20T18:47:58.057998Z",
     "iopub.status.busy": "2024-08-20T18:47:58.057470Z",
     "iopub.status.idle": "2024-08-20T18:49:03.341438Z",
     "shell.execute_reply": "2024-08-20T18:49:03.340195Z"
    },
    "papermill": {
     "duration": 65.297856,
     "end_time": "2024-08-20T18:49:03.344520",
     "exception": false,
     "start_time": "2024-08-20T18:47:58.046664",
     "status": "completed"
    },
    "tags": []
   },
   "outputs": [],
   "source": [
    "trainset, testset = train_test_split(data, test_size=0.25)\n",
    "k_values = [20, 35, 50]\n",
    "sim_options = {\n",
    "    'name': 'cosine',\n",
    "    'user_based': False\n",
    "}"
   ]
  },
  {
   "cell_type": "code",
   "execution_count": 12,
   "id": "952e7f1b",
   "metadata": {
    "execution": {
     "iopub.execute_input": "2024-08-20T18:49:03.365968Z",
     "iopub.status.busy": "2024-08-20T18:49:03.365489Z",
     "iopub.status.idle": "2024-08-20T19:57:19.898094Z",
     "shell.execute_reply": "2024-08-20T19:57:19.896808Z"
    },
    "papermill": {
     "duration": 4096.546008,
     "end_time": "2024-08-20T19:57:19.900813",
     "exception": false,
     "start_time": "2024-08-20T18:49:03.354805",
     "status": "completed"
    },
    "tags": []
   },
   "outputs": [
    {
     "name": "stdout",
     "output_type": "stream",
     "text": [
      "Computing the cosine similarity matrix...\n",
      "Done computing similarity matrix.\n",
      "Vreme fitovanja: 99.68 sekundi\n",
      "Vreme predvidjanja: 1097.15 sekundi\n",
      "RMSE: 0.9680568009604926, MAE: 0.7499682775370518\n",
      "Computing the cosine similarity matrix...\n",
      "Done computing similarity matrix.\n",
      "Vreme fitovanja: 115.02 sekundi\n",
      "Vreme predvidjanja: 1226.87 sekundi\n",
      "RMSE: 0.9622084825834136, MAE: 0.7510426789798034\n",
      "Computing the cosine similarity matrix...\n",
      "Done computing similarity matrix.\n",
      "Vreme fitovanja: 119.89 sekundi\n",
      "Vreme predvidjanja: 1409.65 sekundi\n",
      "RMSE: 0.9632842207032474, MAE: 0.7567241544869737\n"
     ]
    }
   ],
   "source": [
    "for k in k_values:\n",
    "    algo = KNNBasic(k=k, sim_options=sim_options)\n",
    "    start_time = time.time()\n",
    "    algo.fit(trainset)\n",
    "    end_time = time.time()\n",
    "    print(f\"Vreme fitovanja: {end_time - start_time:.2f} sekundi\")\n",
    "    start_time = time.time()\n",
    "    predictions = algo.test(testset)\n",
    "    end_time = time.time()\n",
    "    print(f\"Vreme predvidjanja: {end_time - start_time:.2f} sekundi\")\n",
    "    rmse = accuracy.rmse(predictions, verbose=False)\n",
    "    mae = accuracy.mae(predictions, verbose=False)\n",
    "    print(f'RMSE: {rmse}, MAE: {mae}')"
   ]
  },
  {
   "cell_type": "code",
   "execution_count": 13,
   "id": "c5f9725d",
   "metadata": {
    "execution": {
     "iopub.execute_input": "2024-08-20T19:57:19.922314Z",
     "iopub.status.busy": "2024-08-20T19:57:19.921909Z",
     "iopub.status.idle": "2024-08-20T20:21:08.865204Z",
     "shell.execute_reply": "2024-08-20T20:21:08.864005Z"
    },
    "papermill": {
     "duration": 1428.957142,
     "end_time": "2024-08-20T20:21:08.867758",
     "exception": false,
     "start_time": "2024-08-20T19:57:19.910616",
     "status": "completed"
    },
    "tags": []
   },
   "outputs": [
    {
     "name": "stdout",
     "output_type": "stream",
     "text": [
      "Computing the pearson similarity matrix...\n",
      "Done computing similarity matrix.\n",
      "Vreme fitovanja: 137.91 sekundi\n",
      "Vreme predvidjanja: 1281.66 sekundi\n",
      "RMSE: 0.9176893451807072, MAE: 0.7262812811949847\n"
     ]
    }
   ],
   "source": [
    "sim_options = {\n",
    "    'name': 'pearson',\n",
    "    'user_based': False\n",
    "}\n",
    "\n",
    "algo = KNNBasic(k=35, sim_options=sim_options)\n",
    "start_time = time.time()\n",
    "algo.fit(trainset)\n",
    "end_time = time.time()\n",
    "print(f\"Vreme fitovanja: {end_time - start_time:.2f} sekundi\")\n",
    "start_time = time.time()\n",
    "predictions = algo.test(testset)\n",
    "end_time = time.time()\n",
    "print(f\"Vreme predvidjanja: {end_time - start_time:.2f} sekundi\")\n",
    "rmse = accuracy.rmse(predictions, verbose=False)\n",
    "mae = accuracy.mae(predictions, verbose=False)\n",
    "print(f'RMSE: {rmse}, MAE: {mae}')"
   ]
  },
  {
   "cell_type": "code",
   "execution_count": 14,
   "id": "b87ddeea",
   "metadata": {
    "execution": {
     "iopub.execute_input": "2024-08-20T20:21:08.889903Z",
     "iopub.status.busy": "2024-08-20T20:21:08.889469Z",
     "iopub.status.idle": "2024-08-20T20:21:08.894853Z",
     "shell.execute_reply": "2024-08-20T20:21:08.893919Z"
    },
    "papermill": {
     "duration": 0.019128,
     "end_time": "2024-08-20T20:21:08.897194",
     "exception": false,
     "start_time": "2024-08-20T20:21:08.878066",
     "status": "completed"
    },
    "tags": []
   },
   "outputs": [],
   "source": [
    "k_values = [20, 35, 50]\n",
    "sim_options = {\n",
    "    'name': 'pearson',\n",
    "    'user_based': False\n",
    "}"
   ]
  },
  {
   "cell_type": "code",
   "execution_count": 15,
   "id": "c34ff179",
   "metadata": {
    "execution": {
     "iopub.execute_input": "2024-08-20T20:21:08.918800Z",
     "iopub.status.busy": "2024-08-20T20:21:08.918430Z",
     "iopub.status.idle": "2024-08-20T21:31:51.442987Z",
     "shell.execute_reply": "2024-08-20T21:31:51.441481Z"
    },
    "papermill": {
     "duration": 4242.53836,
     "end_time": "2024-08-20T21:31:51.445792",
     "exception": false,
     "start_time": "2024-08-20T20:21:08.907432",
     "status": "completed"
    },
    "tags": []
   },
   "outputs": [
    {
     "name": "stdout",
     "output_type": "stream",
     "text": [
      "Computing the pearson similarity matrix...\n",
      "Done computing similarity matrix.\n",
      "Vreme fitovanja: 141.62 sekundi\n",
      "Vreme predvidjanja: 1094.20 sekundi\n",
      "RMSE: 0.9115520544476171, MAE: 0.7193239363747127\n",
      "Computing the pearson similarity matrix...\n",
      "Done computing similarity matrix.\n",
      "Vreme fitovanja: 131.01 sekundi\n",
      "Vreme predvidjanja: 1305.85 sekundi\n",
      "RMSE: 0.9176893451807072, MAE: 0.7262812811949847\n",
      "Computing the pearson similarity matrix...\n",
      "Done computing similarity matrix.\n",
      "Vreme fitovanja: 127.36 sekundi\n",
      "Vreme predvidjanja: 1414.56 sekundi\n",
      "RMSE: 0.9241561455065205, MAE: 0.7327077628117054\n"
     ]
    }
   ],
   "source": [
    "for k in k_values:\n",
    "    algo = KNNBasic(k=k, sim_options=sim_options)\n",
    "    start_time = time.time()\n",
    "    algo.fit(trainset)\n",
    "    end_time = time.time()\n",
    "    print(f\"Vreme fitovanja: {end_time - start_time:.2f} sekundi\")\n",
    "    start_time = time.time()\n",
    "    predictions = algo.test(testset)\n",
    "    end_time = time.time()\n",
    "    print(f\"Vreme predvidjanja: {end_time - start_time:.2f} sekundi\")\n",
    "    rmse = accuracy.rmse(predictions, verbose=False)\n",
    "    mae = accuracy.mae(predictions, verbose=False)\n",
    "    print(f'RMSE: {rmse}, MAE: {mae}')"
   ]
  },
  {
   "cell_type": "code",
   "execution_count": 16,
   "id": "765fb219",
   "metadata": {
    "execution": {
     "iopub.execute_input": "2024-08-20T21:31:51.470943Z",
     "iopub.status.busy": "2024-08-20T21:31:51.469824Z",
     "iopub.status.idle": "2024-08-20T22:08:57.051956Z",
     "shell.execute_reply": "2024-08-20T22:08:57.050704Z"
    },
    "papermill": {
     "duration": 2225.598252,
     "end_time": "2024-08-20T22:08:57.054962",
     "exception": false,
     "start_time": "2024-08-20T21:31:51.456710",
     "status": "completed"
    },
    "tags": []
   },
   "outputs": [
    {
     "name": "stdout",
     "output_type": "stream",
     "text": [
      "Computing the pearson similarity matrix...\n",
      "Done computing similarity matrix.\n",
      "Vreme fitovanja: 136.50 sekundi\n",
      "Vreme predvidjanja: 958.83 sekundi\n",
      "RMSE: 0.9163868811867014, MAE: 0.7192240817809957\n",
      "Computing the pearson similarity matrix...\n",
      "Done computing similarity matrix.\n",
      "Vreme fitovanja: 126.42 sekundi\n",
      "Vreme predvidjanja: 985.32 sekundi\n",
      "RMSE: 0.911410882251537, MAE: 0.7178738465869883\n"
     ]
    }
   ],
   "source": [
    "k_values = [10, 15]\n",
    "sim_options = {\n",
    "    'name': 'pearson',\n",
    "    'user_based': False\n",
    "}\n",
    "for k in k_values:\n",
    "    algo = KNNBasic(k=k, sim_options=sim_options)\n",
    "    start_time = time.time()\n",
    "    algo.fit(trainset)\n",
    "    end_time = time.time()\n",
    "    print(f\"Vreme fitovanja: {end_time - start_time:.2f} sekundi\")\n",
    "    start_time = time.time()\n",
    "    predictions = algo.test(testset)\n",
    "    end_time = time.time()\n",
    "    print(f\"Vreme predvidjanja: {end_time - start_time:.2f} sekundi\")\n",
    "    rmse = accuracy.rmse(predictions, verbose=False)\n",
    "    mae = accuracy.mae(predictions, verbose=False)\n",
    "    print(f'RMSE: {rmse}, MAE: {mae}')"
   ]
  },
  {
   "cell_type": "code",
   "execution_count": 17,
   "id": "cf90ecc3",
   "metadata": {
    "execution": {
     "iopub.execute_input": "2024-08-20T22:08:57.080315Z",
     "iopub.status.busy": "2024-08-20T22:08:57.079826Z",
     "iopub.status.idle": "2024-08-20T22:08:57.084932Z",
     "shell.execute_reply": "2024-08-20T22:08:57.083924Z"
    },
    "papermill": {
     "duration": 0.020544,
     "end_time": "2024-08-20T22:08:57.087263",
     "exception": false,
     "start_time": "2024-08-20T22:08:57.066719",
     "status": "completed"
    },
    "tags": []
   },
   "outputs": [],
   "source": [
    "# sim_options = {'name': 'cosine', 'user_based': False}\n",
    "# knn = KNNBasic(sim_options=sim_options)\n",
    "# start_time = time.time()\n",
    "# knn.fit(trainset)\n",
    "# end_time = time.time()\n",
    "# print(f\"Vreme treniranja: {end_time - start_time:.2f} sekundi\")"
   ]
  },
  {
   "cell_type": "code",
   "execution_count": 18,
   "id": "9e9e864d",
   "metadata": {
    "execution": {
     "iopub.execute_input": "2024-08-20T22:08:57.111599Z",
     "iopub.status.busy": "2024-08-20T22:08:57.111194Z",
     "iopub.status.idle": "2024-08-20T22:08:57.115951Z",
     "shell.execute_reply": "2024-08-20T22:08:57.114928Z"
    },
    "papermill": {
     "duration": 0.019632,
     "end_time": "2024-08-20T22:08:57.118212",
     "exception": false,
     "start_time": "2024-08-20T22:08:57.098580",
     "status": "completed"
    },
    "tags": []
   },
   "outputs": [],
   "source": [
    "# start_time = time.time()\n",
    "# predictions = knn.test(testset)\n",
    "\n",
    "# accuracy.rmse(predictions)\n",
    "# end_time = time.time()\n",
    "# print(f\"Vreme treniranja: {end_time - start_time:.2f} sekundi\")"
   ]
  },
  {
   "cell_type": "code",
   "execution_count": 19,
   "id": "11306359",
   "metadata": {
    "execution": {
     "iopub.execute_input": "2024-08-20T22:08:57.142849Z",
     "iopub.status.busy": "2024-08-20T22:08:57.142433Z",
     "iopub.status.idle": "2024-08-20T22:08:57.147231Z",
     "shell.execute_reply": "2024-08-20T22:08:57.146110Z"
    },
    "papermill": {
     "duration": 0.019862,
     "end_time": "2024-08-20T22:08:57.149549",
     "exception": false,
     "start_time": "2024-08-20T22:08:57.129687",
     "status": "completed"
    },
    "tags": []
   },
   "outputs": [],
   "source": [
    "# inner_movie_ids = trainset.all_items()\n",
    "\n",
    "# movie_ids = [trainset.to_raw_iid(inner_id) for inner_id in inner_movie_ids]\n",
    "\n",
    "# print(\"Filmovi u trenažnom setu:\")\n",
    "# print(movie_ids)"
   ]
  },
  {
   "cell_type": "code",
   "execution_count": 20,
   "id": "d60834d8",
   "metadata": {
    "execution": {
     "iopub.execute_input": "2024-08-20T22:08:57.173809Z",
     "iopub.status.busy": "2024-08-20T22:08:57.173402Z",
     "iopub.status.idle": "2024-08-20T22:08:57.178351Z",
     "shell.execute_reply": "2024-08-20T22:08:57.177266Z"
    },
    "papermill": {
     "duration": 0.020084,
     "end_time": "2024-08-20T22:08:57.180866",
     "exception": false,
     "start_time": "2024-08-20T22:08:57.160782",
     "status": "completed"
    },
    "tags": []
   },
   "outputs": [],
   "source": [
    "# target_movie_id = '2400'\n",
    "\n",
    "# inner_id = knn.trainset.to_inner_iid(target_movie_id)\n",
    "\n",
    "# neighbors = knn.get_neighbors(inner_id, k=10)\n",
    "\n",
    "# print(f\"Najbliži filmovi za film ID {target_movie_id}:\")\n",
    "# for neighbor in neighbors:\n",
    "#     print(knn.trainset.to_raw_iid(neighbor))\n",
    "    "
   ]
  },
  {
   "cell_type": "code",
   "execution_count": 21,
   "id": "855bbe6d",
   "metadata": {
    "execution": {
     "iopub.execute_input": "2024-08-20T22:08:57.204441Z",
     "iopub.status.busy": "2024-08-20T22:08:57.204048Z",
     "iopub.status.idle": "2024-08-20T22:08:57.208460Z",
     "shell.execute_reply": "2024-08-20T22:08:57.207409Z"
    },
    "papermill": {
     "duration": 0.01885,
     "end_time": "2024-08-20T22:08:57.210592",
     "exception": false,
     "start_time": "2024-08-20T22:08:57.191742",
     "status": "completed"
    },
    "tags": []
   },
   "outputs": [],
   "source": [
    "# param_grid = {\n",
    "#     'k': [15, 20],\n",
    "#     'sim_options': {\n",
    "#         'name': ['cosine'],\n",
    "#         'user_based': [False]\n",
    "#     }\n",
    "# }"
   ]
  },
  {
   "cell_type": "code",
   "execution_count": 22,
   "id": "65cf707b",
   "metadata": {
    "execution": {
     "iopub.execute_input": "2024-08-20T22:08:57.234768Z",
     "iopub.status.busy": "2024-08-20T22:08:57.234089Z",
     "iopub.status.idle": "2024-08-20T22:08:57.238953Z",
     "shell.execute_reply": "2024-08-20T22:08:57.237928Z"
    },
    "papermill": {
     "duration": 0.019985,
     "end_time": "2024-08-20T22:08:57.241468",
     "exception": false,
     "start_time": "2024-08-20T22:08:57.221483",
     "status": "completed"
    },
    "tags": []
   },
   "outputs": [],
   "source": [
    "# start_time = time.time()\n",
    "# gs = GridSearchCV(KNNBasic, param_grid, measures=['rmse'], cv=3, n_jobs=-1)\n",
    "# gs.fit(data)\n",
    "# end_time = time.time()\n",
    "# print(f\"Vreme treniranja: {end_time - start_time:.2f} sekundi\")"
   ]
  },
  {
   "cell_type": "code",
   "execution_count": 23,
   "id": "58c0c4a0",
   "metadata": {
    "execution": {
     "iopub.execute_input": "2024-08-20T22:08:57.265436Z",
     "iopub.status.busy": "2024-08-20T22:08:57.265026Z",
     "iopub.status.idle": "2024-08-20T22:08:57.270785Z",
     "shell.execute_reply": "2024-08-20T22:08:57.269943Z"
    },
    "papermill": {
     "duration": 0.020358,
     "end_time": "2024-08-20T22:08:57.273039",
     "exception": false,
     "start_time": "2024-08-20T22:08:57.252681",
     "status": "completed"
    },
    "tags": []
   },
   "outputs": [],
   "source": [
    "# print(\"Najbolji RMSE rezultat: \", gs.best_score['rmse'])\n",
    "# print(\"Najbolji parametri: \", gs.best_params['rmse'])\n",
    "# best_model = gs.best_estimator['rmse']"
   ]
  },
  {
   "cell_type": "code",
   "execution_count": 24,
   "id": "5b98a49c",
   "metadata": {
    "execution": {
     "iopub.execute_input": "2024-08-20T22:08:57.295734Z",
     "iopub.status.busy": "2024-08-20T22:08:57.295351Z",
     "iopub.status.idle": "2024-08-20T22:08:57.299732Z",
     "shell.execute_reply": "2024-08-20T22:08:57.298746Z"
    },
    "papermill": {
     "duration": 0.018279,
     "end_time": "2024-08-20T22:08:57.302052",
     "exception": false,
     "start_time": "2024-08-20T22:08:57.283773",
     "status": "completed"
    },
    "tags": []
   },
   "outputs": [],
   "source": [
    "# results_df = pd.DataFrame.from_dict(gs.cv_results_)\n",
    "# for mean_score, params in zip(results_df['mean_test_rmse'], results_df['params']):\n",
    "#     print(\"Params: \", params, \" RMSE: \", mean_score)"
   ]
  },
  {
   "cell_type": "code",
   "execution_count": null,
   "id": "e5f00049",
   "metadata": {
    "papermill": {
     "duration": 0.010537,
     "end_time": "2024-08-20T22:08:57.322813",
     "exception": false,
     "start_time": "2024-08-20T22:08:57.312276",
     "status": "completed"
    },
    "tags": []
   },
   "outputs": [],
   "source": []
  }
 ],
 "metadata": {
  "kaggle": {
   "accelerator": "none",
   "dataSources": [
    {
     "datasetId": 5547331,
     "sourceId": 9178491,
     "sourceType": "datasetVersion"
    },
    {
     "datasetId": 5552290,
     "sourceId": 9185400,
     "sourceType": "datasetVersion"
    }
   ],
   "dockerImageVersionId": 30746,
   "isGpuEnabled": false,
   "isInternetEnabled": false,
   "language": "python",
   "sourceType": "notebook"
  },
  "kernelspec": {
   "display_name": "Python 3",
   "language": "python",
   "name": "python3"
  },
  "language_info": {
   "codemirror_mode": {
    "name": "ipython",
    "version": 3
   },
   "file_extension": ".py",
   "mimetype": "text/x-python",
   "name": "python",
   "nbconvert_exporter": "python",
   "pygments_lexer": "ipython3",
   "version": "3.10.13"
  },
  "papermill": {
   "default_parameters": {},
   "duration": 12127.577836,
   "end_time": "2024-08-20T22:09:00.690832",
   "environment_variables": {},
   "exception": null,
   "input_path": "__notebook__.ipynb",
   "output_path": "__notebook__.ipynb",
   "parameters": {},
   "start_time": "2024-08-20T18:46:53.112996",
   "version": "2.5.0"
  }
 },
 "nbformat": 4,
 "nbformat_minor": 5
}
