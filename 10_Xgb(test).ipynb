{
 "cells": [
  {
   "cell_type": "code",
   "execution_count": 1,
   "id": "63dc1a59",
   "metadata": {},
   "outputs": [
    {
     "name": "stdout",
     "output_type": "stream",
     "text": [
      "Training RMSE: 0.6973309186459775\n",
      "Test RMSE: 0.7001736950789121\n"
     ]
    }
   ],
   "source": [
    "import pandas as pd\n",
    "import xgboost as xgb\n",
    "from sklearn.metrics import mean_squared_error\n",
    "import joblib\n",
    "\n",
    "\n",
    "train_file_path = 'train_features.csv'\n",
    "train_data = pd.read_csv(train_file_path)\n",
    "\n",
    "# Razdvajanje karakteristika (X_train) i ciljnih promenljivih (y_train)\n",
    "X_train = train_data.drop(columns=['target'])  \n",
    "y_train = train_data['target']  \n",
    "\n",
    "# Najbolji hiperparametri pronađeni putem prethodne optimizacije\n",
    "best_params = {\n",
    "    'learning_rate': 0.2,\n",
    "    'max_depth': 7,\n",
    "    'n_estimators': 200,\n",
    "    'subsample': 0.8\n",
    "}\n",
    "\n",
    "# Kreiranje XGBoost modela sa najboljim hiperparametrima\n",
    "xgb_model = xgb.XGBRegressor(\n",
    "    learning_rate=best_params['learning_rate'],  # Stopa učenja\n",
    "    max_depth=best_params['max_depth'],  # Maksimalna dubina svakog stabla\n",
    "    n_estimators=best_params['n_estimators'],  # Broj stabala\n",
    "    subsample=best_params['subsample'],  # Procenat podataka koji se koristi za svako stablo\n",
    "    objective='reg:squarederror'  # Funkcija greške za regresiju\n",
    ")\n",
    "\n",
    "# Treniranje XGBoost modela na trening podacima\n",
    "xgb_model.fit(X_train, y_train)\n",
    "\n",
    "# Predikcija na trening podacima kako bi se izračunao RMSE na trening skupu\n",
    "y_train_pred = xgb_model.predict(X_train)\n",
    "train_rmse = mean_squared_error(y_train, y_train_pred, squared=False)\n",
    "print(f'Training RMSE: {train_rmse}') \n",
    "\n",
    "# Čuvanje treniranog modela u fajl pomoću 'joblib' biblioteke\n",
    "model_path = 'xgb_model.pkl'\n",
    "joblib.dump(xgb_model, model_path) \n",
    "\n",
    "\n",
    "test_file_path = 'val_features.csv'\n",
    "test_data = pd.read_csv(test_file_path)\n",
    "\n",
    "# Razdvajanje karakteristika (X_test) i ciljnih promenljivih (y_test) za test skup\n",
    "X_test = test_data.drop(columns=['target']) \n",
    "y_test = test_data['target'] \n",
    "\n",
    "# Učitavanje prethodno sačuvanog modela iz fajla\n",
    "loaded_model = joblib.load(model_path)\n",
    "\n",
    "# Predikcija na test podacima pomoću učitanog modela\n",
    "y_pred = loaded_model.predict(X_test)\n",
    "\n",
    "\n",
    "rmse = mean_squared_error(y_test, y_pred, squared=False)\n",
    "print(f'Test RMSE: {rmse}')  \n",
    "\n"
   ]
  },
  {
   "cell_type": "code",
   "execution_count": null,
   "id": "00b46bac",
   "metadata": {},
   "outputs": [],
   "source": []
  }
 ],
 "metadata": {
  "kernelspec": {
   "display_name": "Python 3 (ipykernel)",
   "language": "python",
   "name": "python3"
  },
  "language_info": {
   "codemirror_mode": {
    "name": "ipython",
    "version": 3
   },
   "file_extension": ".py",
   "mimetype": "text/x-python",
   "name": "python",
   "nbconvert_exporter": "python",
   "pygments_lexer": "ipython3",
   "version": "3.9.6"
  }
 },
 "nbformat": 4,
 "nbformat_minor": 5
}
