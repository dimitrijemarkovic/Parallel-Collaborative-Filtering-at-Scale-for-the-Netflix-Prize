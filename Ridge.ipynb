{
 "cells": [
  {
   "cell_type": "code",
   "execution_count": 5,
   "id": "107204c3-e0f9-4365-b111-7157f0ea48eb",
   "metadata": {},
   "outputs": [
    {
     "name": "stderr",
     "output_type": "stream",
     "text": [
      "/home/vuk/.local/lib/python3.10/site-packages/sklearn/metrics/_regression.py:492: FutureWarning: 'squared' is deprecated in version 1.4 and will be removed in 1.6. To calculate the root mean squared error, use the function'root_mean_squared_error'.\n",
      "  warnings.warn(\n"
     ]
    },
    {
     "name": "stdout",
     "output_type": "stream",
     "text": [
      "Training RMSE: 0.7247136951375539\n",
      "Test RMSE: 0.7247798793736346\n",
      "4.519333532747592\n",
      "5.0\n"
     ]
    },
    {
     "name": "stderr",
     "output_type": "stream",
     "text": [
      "/home/vuk/.local/lib/python3.10/site-packages/sklearn/metrics/_regression.py:492: FutureWarning: 'squared' is deprecated in version 1.4 and will be removed in 1.6. To calculate the root mean squared error, use the function'root_mean_squared_error'.\n",
      "  warnings.warn(\n"
     ]
    }
   ],
   "source": [
    "import pandas as pd\n",
    "from sklearn.model_selection import train_test_split, GridSearchCV\n",
    "from sklearn.linear_model import Ridge\n",
    "from sklearn.metrics import mean_squared_error, accuracy_score\n",
    "import joblib\n",
    "\n",
    "\n",
    "train_file_path = 'train_features.csv' \n",
    "train_data = pd.read_csv(train_file_path)\n",
    "\n",
    "\n",
    "X_train = train_data.drop(columns=['target'])  \n",
    "y_train = train_data['target']  \n",
    "\n",
    "\n",
    "ridge = Ridge()\n",
    "parameters = {'alpha': [0.1, 1.0, 10.0, 100.0, 200.0]}\n",
    "\n",
    "\n",
    "grid_search = GridSearchCV(ridge, parameters, cv=5, scoring='neg_mean_squared_error')\n",
    "grid_search.fit(X_train, y_train)\n",
    "\n",
    "\n",
    "y_train_pred = grid_search.predict(X_train)\n",
    "\n",
    "\n",
    "train_rmse = mean_squared_error(y_train, y_train_pred, squared=False)\n",
    "print(f'Training RMSE: {train_rmse}')\n",
    "\n",
    "\n",
    "\n",
    "\n",
    "\n",
    "model_path = 'ridge_model.pkl'\n",
    "joblib.dump(grid_search.best_estimator_, model_path)\n",
    "\n",
    "\n",
    "loaded_model = joblib.load(model_path)\n",
    "\n",
    "\n",
    "test_file_path = 'val_features.csv'  \n",
    "test_data = pd.read_csv(test_file_path)\n",
    "\n",
    "\n",
    "X_test = test_data.drop(columns=['target'])  \n",
    "y_test = test_data['target'] \n",
    "\n",
    "\n",
    "y_pred = loaded_model.predict(X_test)\n",
    "\n",
    "\n",
    "rmse = mean_squared_error(y_test, y_pred, squared=False)\n",
    "print(f'Test RMSE: {rmse}')\n",
    "\n",
    "\n",
    "\n"
   ]
  },
  {
   "cell_type": "code",
   "execution_count": null,
   "id": "d7d67f5e-c9f7-45c1-8c51-cfc4e14bc9a2",
   "metadata": {},
   "outputs": [],
   "source": []
  }
 ],
 "metadata": {
  "kernelspec": {
   "display_name": "Python 3 (ipykernel)",
   "language": "python",
   "name": "python3"
  },
  "language_info": {
   "codemirror_mode": {
    "name": "ipython",
    "version": 3
   },
   "file_extension": ".py",
   "mimetype": "text/x-python",
   "name": "python",
   "nbconvert_exporter": "python",
   "pygments_lexer": "ipython3",
   "version": "3.10.12"
  }
 },
 "nbformat": 4,
 "nbformat_minor": 5
}
