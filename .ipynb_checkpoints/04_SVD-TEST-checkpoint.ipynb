{
 "cells": [
  {
   "cell_type": "code",
   "execution_count": 2,
   "id": "bb06b68a",
   "metadata": {},
   "outputs": [
    {
     "name": "stdout",
     "output_type": "stream",
     "text": [
      "Model sačuvan na best_model.pkl\n",
      "Model uspešno učitan!\n",
      "RMSE: 0.9938\n",
      "MAE:  0.7985\n",
      "RMSE na novom test skupu: 0.9938370587068346\n",
      "MAE na novom test skupu: 0.7985280018832762\n"
     ]
    }
   ],
   "source": [
    "import pickle\n",
    "from surprise import Dataset, Reader, SVD, accuracy\n",
    "from surprise.model_selection import train_test_split\n",
    "import pandas as pd\n",
    "\n",
    "\n",
    "\n",
    "df_pivot = pd.read_csv('pivot_table (1).csv', index_col=0)\n",
    "# Pretvaranje tabela sa ocenom u odgovarajući format (long format)\n",
    "df_melt = df_pivot.stack().reset_index().rename(columns={'level_1': 'Movie_Id', 0: 'Rating'})\n",
    "\n",
    "# Definisanje čitača sa opsegom ocena od 1 do 5\n",
    "reader = Reader(rating_scale=(1, 5))\n",
    "# Kreiranje dataset-a iz DataFrame-a koji ima Cust_Id, Movie_Id i Rating\n",
    "data = Dataset.load_from_df(df_melt[['Cust_Id', 'Movie_Id', 'Rating']], reader)\n",
    "\n",
    "# Deljenje podataka na trening i test set (25% ide u test set)\n",
    "trainset, testset = train_test_split(data, test_size=0.25)\n",
    "\n",
    "\n",
    "# Definisanje hiperparametara za SVD algoritam\n",
    "n_factors = 10   # Broj latentnih faktora\n",
    "n_epochs = 30    \n",
    "lr_all = 0.005   # Stopa učenja (koliko brzo se model uči)\n",
    "reg_all = 0.02   # Regularizacija (za sprečavanje overfitting-a)\n",
    "\n",
    "# Kreiranje i treniranje SVD modela sa zadatim parametrima\n",
    "algo = SVD(n_factors=n_factors, n_epochs=n_epochs, lr_all=lr_all, reg_all=reg_all)\n",
    "algo.fit(trainset)\n",
    "\n",
    "\n",
    "# Čuvanje treniranog modela u pickle fajl\n",
    "model_path = 'best_model.pkl'\n",
    "with open(model_path, 'wb') as f:\n",
    "    pickle.dump(algo, f)\n",
    "\n",
    "print(f\"Model sačuvan na {model_path}\")\n",
    "\n",
    "\n",
    "# Učitavanje modela iz pickle fajla\n",
    "with open(model_path, 'rb') as f:\n",
    "    loaded_model = pickle.load(f)\n",
    "\n",
    "print(\"Model uspešno učitan!\")\n",
    "\n",
    "\n",
    "# Učitavanje novog test skupa podataka iz CSV fajla\n",
    "df_new_test = pd.read_csv('test_data.csv')  \n",
    "\n",
    "\n",
    "# Kreiranje test skupa u odgovarajućem formatu za Surprise (Cust_Id, Movie_Id, Rating)\n",
    "new_testset = [(row['Cust_Id'], row['Movie_Id'], row['Rating']) for _, row in df_new_test.iterrows()]\n",
    "\n",
    "\n",
    "# Predikcija ocena za novi test skup koristeći učitani model\n",
    "predictions = loaded_model.test(new_testset)\n",
    "\n",
    "\n",
    "# Računanje i prikazivanje RMSE i MAE za novi test skup\n",
    "rmse = accuracy.rmse(predictions, verbose=True)\n",
    "mae = accuracy.mae(predictions, verbose=True)\n",
    "\n",
    "print(f'RMSE na novom test skupu: {rmse}')\n",
    "print(f'MAE na novom test skupu: {mae}')\n"
   ]
  },
  {
   "cell_type": "code",
   "execution_count": null,
   "id": "0532a888",
   "metadata": {},
   "outputs": [],
   "source": []
  }
 ],
 "metadata": {
  "kernelspec": {
   "display_name": "Python 3 (ipykernel)",
   "language": "python",
   "name": "python3"
  },
  "language_info": {
   "codemirror_mode": {
    "name": "ipython",
    "version": 3
   },
   "file_extension": ".py",
   "mimetype": "text/x-python",
   "name": "python",
   "nbconvert_exporter": "python",
   "pygments_lexer": "ipython3",
   "version": "3.9.6"
  }
 },
 "nbformat": 4,
 "nbformat_minor": 5
}
