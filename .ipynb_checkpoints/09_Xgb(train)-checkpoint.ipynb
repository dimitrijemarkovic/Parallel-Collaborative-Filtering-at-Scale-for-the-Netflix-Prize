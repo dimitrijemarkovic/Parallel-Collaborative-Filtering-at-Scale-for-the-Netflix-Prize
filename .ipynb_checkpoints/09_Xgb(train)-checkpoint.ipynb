{
 "cells": [
  {
   "cell_type": "code",
   "execution_count": 1,
   "id": "1d090659",
   "metadata": {},
   "outputs": [
    {
     "name": "stdout",
     "output_type": "stream",
     "text": [
      "Najbolji hiperparametri: {'learning_rate': 0.2, 'max_depth': 7, 'n_estimators': 200, 'subsample': 0.8}\n",
      "Mean Squared Error sa najboljim modelom: 0.49074485870047585\n"
     ]
    }
   ],
   "source": [
    "import pandas as pd\n",
    "import xgboost as xgb\n",
    "from sklearn.model_selection import train_test_split, GridSearchCV\n",
    "from sklearn.metrics import mean_squared_error\n",
    "\n",
    "\n",
    "df = pd.read_csv('train_features.csv')\n",
    "\n",
    "# Definisanje X (ulazne karakteristike) i y (ciljna promenljiva) iz dataset-a\n",
    "X = df.drop('target', axis=1) \n",
    "\n",
    "# Podela podataka na trening i test skup \n",
    "X_train, X_test, y_train, y_test = train_test_split(X, y, test_size=0.3, random_state=42)\n",
    "\n",
    "# Kreiranje XGBoost modela sa inicijalnim metrikom evaluacije (rmse)\n",
    "model = xgb.XGBRegressor(eval_metric='rmse')\n",
    "\n",
    "# Definisanje mreže hiperparametara koje želimo da testiramo\n",
    "param_grid = {\n",
    "    'n_estimators': [50, 100, 200],  # Broj stabala u modelu\n",
    "    'learning_rate': [0.01, 0.1, 0.2],  # Stopa učenja za model\n",
    "    'max_depth': [3, 5, 7],  # Maksimalna dubina svakog stabla\n",
    "    'subsample': [0.8, 0.9, 1.0]  # Procenat podataka koji se koristi za svako stablo\n",
    "}\n",
    "\n",
    "# Kreiranje GridSearchCV objekta za pretragu najboljih hiperparametara\n",
    "grid_search = GridSearchCV(estimator=model, param_grid=param_grid, cv=5, scoring='neg_mean_squared_error')\n",
    "\n",
    "# Treniranje modela sa različitim kombinacijama hiperparametara\n",
    "grid_search.fit(X_train, y_train)\n",
    "\n",
    "# Prikaz najboljih hiperparametara na osnovu unakrsne validacije\n",
    "print(\"Najbolji hiperparametri:\", grid_search.best_params_)\n",
    "\n",
    "# Kreiranje modela sa najboljim hiperparametrima\n",
    "best_model = grid_search.best_estimator_\n",
    "\n",
    "# Predikcija ciljne promenljive na test skupu\n",
    "predictions = best_model.predict(X_test)\n",
    "\n",
    "# Računanje MSE (mean squared error) na test podacima\n",
    "mse = mean_squared_error(y_test, predictions)\n",
    "print(f\"Mean Squared Error sa najboljim modelom: {mse}\")\n",
    "\n",
    "\n"
   ]
  },
  {
   "cell_type": "code",
   "execution_count": null,
   "id": "c0df11ff",
   "metadata": {},
   "outputs": [],
   "source": []
  }
 ],
 "metadata": {
  "kernelspec": {
   "display_name": "Python 3 (ipykernel)",
   "language": "python",
   "name": "python3"
  },
  "language_info": {
   "codemirror_mode": {
    "name": "ipython",
    "version": 3
   },
   "file_extension": ".py",
   "mimetype": "text/x-python",
   "name": "python",
   "nbconvert_exporter": "python",
   "pygments_lexer": "ipython3",
   "version": "3.9.6"
  }
 },
 "nbformat": 4,
 "nbformat_minor": 5
}
