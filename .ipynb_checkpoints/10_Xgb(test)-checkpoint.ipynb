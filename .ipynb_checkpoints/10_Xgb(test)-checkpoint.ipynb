{
 "cells": [
  {
   "cell_type": "code",
   "execution_count": 1,
   "id": "63dc1a59",
   "metadata": {},
   "outputs": [
    {
     "name": "stdout",
     "output_type": "stream",
     "text": [
      "Training RMSE: 0.6973309186459775\n",
      "Test RMSE: 0.7001736950789121\n"
     ]
    }
   ],
   "source": [
    "import pandas as pd\n",
    "import xgboost as xgb\n",
    "from sklearn.metrics import mean_squared_error\n",
    "import joblib\n",
    "\n",
    "train_file_path = 'train_features.csv'\n",
    "train_data = pd.read_csv(train_file_path)\n",
    "\n",
    "\n",
    "X_train = train_data.drop(columns=['target'])\n",
    "y_train = train_data['target']\n",
    "\n",
    "\n",
    "best_params = {\n",
    "    'learning_rate': 0.2,\n",
    "    'max_depth': 7,\n",
    "    'n_estimators': 200,\n",
    "    'subsample': 0.8\n",
    "}\n",
    "\n",
    "\n",
    "xgb_model = xgb.XGBRegressor(\n",
    "    learning_rate=best_params['learning_rate'],\n",
    "    max_depth=best_params['max_depth'],\n",
    "    n_estimators=best_params['n_estimators'],\n",
    "    subsample=best_params['subsample'],\n",
    "    objective='reg:squarederror'\n",
    ")\n",
    "xgb_model.fit(X_train, y_train)\n",
    "\n",
    "\n",
    "y_train_pred = xgb_model.predict(X_train)\n",
    "train_rmse = mean_squared_error(y_train, y_train_pred, squared=False)\n",
    "print(f'Training RMSE: {train_rmse}')\n",
    "\n",
    "\n",
    "model_path = 'xgb_model.pkl'\n",
    "joblib.dump(xgb_model, model_path)\n",
    "\n",
    "\n",
    "test_file_path = 'val_features.csv'\n",
    "test_data = pd.read_csv(test_file_path)\n",
    "\n",
    "\n",
    "X_test = test_data.drop(columns=['target'])\n",
    "y_test = test_data['target']\n",
    "\n",
    "loaded_model = joblib.load(model_path)\n",
    "\n",
    "\n",
    "y_pred = loaded_model.predict(X_test)\n",
    "rmse = mean_squared_error(y_test, y_pred, squared=False)\n",
    "print(f'Test RMSE: {rmse}')\n"
   ]
  },
  {
   "cell_type": "code",
   "execution_count": null,
   "id": "00b46bac",
   "metadata": {},
   "outputs": [],
   "source": []
  }
 ],
 "metadata": {
  "kernelspec": {
   "display_name": "Python 3 (ipykernel)",
   "language": "python",
   "name": "python3"
  },
  "language_info": {
   "codemirror_mode": {
    "name": "ipython",
    "version": 3
   },
   "file_extension": ".py",
   "mimetype": "text/x-python",
   "name": "python",
   "nbconvert_exporter": "python",
   "pygments_lexer": "ipython3",
   "version": "3.10.7"
  }
 },
 "nbformat": 4,
 "nbformat_minor": 5
}
