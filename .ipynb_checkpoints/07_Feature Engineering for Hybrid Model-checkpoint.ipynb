{
 "cells": [
  {
   "cell_type": "code",
   "execution_count": 1,
   "metadata": {
    "_cell_guid": "b1076dfc-b9ad-4769-8c92-a6c4dae69d19",
    "_uuid": "8f2839f25d086af736a60e9eeb907d3b93b6e0e5",
    "execution": {
     "iopub.execute_input": "2024-08-26T09:05:19.927976Z",
     "iopub.status.busy": "2024-08-26T09:05:19.926707Z",
     "iopub.status.idle": "2024-08-26T09:05:20.402383Z",
     "shell.execute_reply": "2024-08-26T09:05:20.400989Z",
     "shell.execute_reply.started": "2024-08-26T09:05:19.927924Z"
    }
   },
   "outputs": [
    {
     "name": "stdout",
     "output_type": "stream",
     "text": [
      "/kaggle/input/naucno-izracunavanje/pivot_table.csv\n",
      "/kaggle/input/naucno-izracunavanje/test_data.csv\n",
      "/kaggle/input/netflix-models/best_knn_model.pkl\n",
      "/kaggle/input/netflix-models/best_svd_model.pkl\n"
     ]
    }
   ],
   "source": [
    "# This Python 3 environment comes with many helpful analytics libraries installed\n",
    "# It is defined by the kaggle/python Docker image: https://github.com/kaggle/docker-python\n",
    "# For example, here's several helpful packages to load\n",
    "\n",
    "import numpy as np # linear algebra\n",
    "import pandas as pd # data processing, CSV file I/O (e.g. pd.read_csv)\n",
    "\n",
    "# Input data files are available in the read-only \"../input/\" directory\n",
    "# For example, running this (by clicking run or pressing Shift+Enter) will list all files under the input directory\n",
    "\n",
    "import os\n",
    "for dirname, _, filenames in os.walk('/kaggle/input'):\n",
    "    for filename in filenames:\n",
    "        print(os.path.join(dirname, filename))\n",
    "\n",
    "# You can write up to 20GB to the current directory (/kaggle/working/) that gets preserved as output when you create a version using \"Save & Run All\" \n",
    "# You can also write temporary files to /kaggle/temp/, but they won't be saved outside of the current session"
   ]
  },
  {
   "cell_type": "code",
   "execution_count": 2,
   "metadata": {
    "execution": {
     "iopub.execute_input": "2024-08-26T09:05:20.405490Z",
     "iopub.status.busy": "2024-08-26T09:05:20.404842Z",
     "iopub.status.idle": "2024-08-26T09:05:21.999640Z",
     "shell.execute_reply": "2024-08-26T09:05:21.998469Z",
     "shell.execute_reply.started": "2024-08-26T09:05:20.405436Z"
    }
   },
   "outputs": [],
   "source": [
    "import pickle\n",
    "import pandas as pd\n",
    "from sklearn.model_selection import train_test_split\n",
    "import numpy as np\n",
    "import time"
   ]
  },
  {
   "cell_type": "code",
   "execution_count": 3,
   "metadata": {
    "execution": {
     "iopub.execute_input": "2024-08-26T09:05:22.001992Z",
     "iopub.status.busy": "2024-08-26T09:05:22.001341Z",
     "iopub.status.idle": "2024-08-26T09:05:43.168348Z",
     "shell.execute_reply": "2024-08-26T09:05:43.167092Z",
     "shell.execute_reply.started": "2024-08-26T09:05:22.001936Z"
    }
   },
   "outputs": [],
   "source": [
    "with open('/kaggle/input/netflix-models/best_knn_model.pkl', 'rb') as f:\n",
    "    best_knn_model = pickle.load(f)\n",
    "\n",
    "with open('/kaggle/input/netflix-models/best_svd_model.pkl', 'rb') as f:\n",
    "    best_svd_model = pickle.load(f)"
   ]
  },
  {
   "cell_type": "code",
   "execution_count": 4,
   "metadata": {
    "execution": {
     "iopub.execute_input": "2024-08-26T09:05:43.171383Z",
     "iopub.status.busy": "2024-08-26T09:05:43.170860Z",
     "iopub.status.idle": "2024-08-26T09:06:08.267002Z",
     "shell.execute_reply": "2024-08-26T09:06:08.265771Z",
     "shell.execute_reply.started": "2024-08-26T09:05:43.171342Z"
    }
   },
   "outputs": [
    {
     "name": "stdout",
     "output_type": "stream",
     "text": [
      "          3    8  16  17  18  26   28   30  32  33  ...  4472  4474  4478  \\\n",
      "Cust_Id                                             ...                     \n",
      "6       NaN  NaN NaN NaN NaN NaN  NaN  3.0 NaN NaN  ...   NaN   NaN   NaN   \n",
      "7       NaN  5.0 NaN NaN NaN NaN  4.0  5.0 NaN NaN  ...   3.0   NaN   NaN   \n",
      "79      NaN  NaN NaN NaN NaN NaN  NaN  NaN NaN NaN  ...   4.0   NaN   NaN   \n",
      "97      NaN  NaN NaN NaN NaN NaN  NaN  NaN NaN NaN  ...   NaN   NaN   NaN   \n",
      "134     NaN  NaN NaN NaN NaN NaN  NaN  NaN NaN NaN  ...   NaN   NaN   NaN   \n",
      "\n",
      "         4479  4485  4488  4490  4492  4493  4496  \n",
      "Cust_Id                                            \n",
      "6         NaN   NaN   NaN   NaN   NaN   NaN   NaN  \n",
      "7         NaN   NaN   NaN   NaN   NaN   NaN   NaN  \n",
      "79        NaN   NaN   NaN   4.0   NaN   NaN   NaN  \n",
      "97        NaN   NaN   NaN   NaN   NaN   NaN   NaN  \n",
      "134       NaN   NaN   NaN   NaN   NaN   NaN   NaN  \n",
      "\n",
      "[5 rows x 1350 columns]\n",
      "   Cust_Id Movie_Id  Rating\n",
      "0        6       30     3.0\n",
      "1        6      173     4.0\n",
      "2        6      175     5.0\n",
      "3        6      191     2.0\n",
      "4        6      197     3.0\n"
     ]
    }
   ],
   "source": [
    "df_pivot = pd.read_csv('/kaggle/input/naucno-izracunavanje/pivot_table.csv', index_col=0)\n",
    "print(df_pivot.head())\n",
    "\n",
    "df_melt = df_pivot.stack().reset_index().rename(columns={'level_1': 'Movie_Id', 0: 'Rating'})\n",
    "print(df_melt.head())"
   ]
  },
  {
   "cell_type": "code",
   "execution_count": 5,
   "metadata": {
    "execution": {
     "iopub.execute_input": "2024-08-26T09:06:08.268632Z",
     "iopub.status.busy": "2024-08-26T09:06:08.268280Z",
     "iopub.status.idle": "2024-08-26T09:06:11.159791Z",
     "shell.execute_reply": "2024-08-26T09:06:11.158650Z",
     "shell.execute_reply.started": "2024-08-26T09:06:08.268595Z"
    }
   },
   "outputs": [
    {
     "name": "stdout",
     "output_type": "stream",
     "text": [
      "Trening podaci: 9102165 redova\n",
      "Validacioni podaci: 3034055 redova\n"
     ]
    }
   ],
   "source": [
    "train_data, val_data = train_test_split(df_melt, test_size=0.25, random_state=42)\n",
    "\n",
    "print(f\"Trening podaci: {len(train_data)} redova\")\n",
    "print(f\"Validacioni podaci: {len(val_data)} redova\")"
   ]
  },
  {
   "cell_type": "code",
   "execution_count": 6,
   "metadata": {
    "execution": {
     "iopub.execute_input": "2024-08-26T09:06:11.161932Z",
     "iopub.status.busy": "2024-08-26T09:06:11.161437Z",
     "iopub.status.idle": "2024-08-26T09:06:11.175003Z",
     "shell.execute_reply": "2024-08-26T09:06:11.173774Z",
     "shell.execute_reply.started": "2024-08-26T09:06:11.161880Z"
    }
   },
   "outputs": [],
   "source": [
    "# Funkcija za generisanje dodatnih atributa koje ce koristiti hibridni modeli\n",
    "# Funkcija generise: \n",
    "#     knn_pred - Predvidjanje KNN modela\n",
    "#     svd_pred - Predvidjanje SVD modela\n",
    "#     movie_mean_rating - Prosecna ocena filma\n",
    "#     user_mean_rating - Prosecna ocena koju korisnik daje\n",
    "#     user_review_count - Ukupan broj ocena koje je korisnik dao\n",
    "#     movie_review_count - Ukupan broj ocena koje film ima\n",
    "#     user_rating_variability - Varijansa ocena korisnika\n",
    "    \n",
    "def generate_features_targets(data, knn_model, svd_model, pivot_table):\n",
    "    df_pivot = pivot_table.copy()\n",
    "    \n",
    "    knn_preds = np.array([knn_model.predict(row['Cust_Id'], row['Movie_Id']).est for _, row in data.iterrows()])\n",
    "    svd_preds = np.array([svd_model.predict(row['Cust_Id'], row['Movie_Id']).est for _, row in data.iterrows()])\n",
    "    \n",
    "    movie_mean_ratings = df_pivot.mean()\n",
    "    user_mean_ratings = df_pivot.mean(axis=1)\n",
    "    user_review_counts = df_pivot.notna().sum(axis=1)\n",
    "    movie_review_counts = df_pivot.notna().sum(axis=0)\n",
    "    user_rating_variabilities = df_pivot.std(axis=1)\n",
    "    \n",
    "    data['knn_pred'] = data.apply(lambda row: knn_model.predict(row['Cust_Id'], row['Movie_Id']).est, axis=1)\n",
    "    data['svd_pred'] = data.apply(lambda row: svd_model.predict(row['Cust_Id'], row['Movie_Id']).est, axis=1)\n",
    "    data['movie_mean_rating'] = data['Movie_Id'].map(movie_mean_ratings)\n",
    "    data['user_mean_rating'] = data['Cust_Id'].map(user_mean_ratings)\n",
    "    data['user_review_count'] = data['Cust_Id'].map(user_review_counts)\n",
    "    data['movie_review_count'] = data['Movie_Id'].map(movie_review_counts)\n",
    "    data['user_rating_variability'] = data['Cust_Id'].map(user_rating_variabilities)\n",
    "    \n",
    "    features = data[['knn_pred', 'svd_pred', 'movie_mean_rating', 'user_mean_rating', 'user_review_count', 'movie_review_count', 'user_rating_variability']]\n",
    "    targets = data['Rating']\n",
    "    \n",
    "    return features, targets"
   ]
  },
  {
   "cell_type": "code",
   "execution_count": 7,
   "metadata": {
    "execution": {
     "iopub.execute_input": "2024-08-26T09:06:11.176904Z",
     "iopub.status.busy": "2024-08-26T09:06:11.176434Z",
     "iopub.status.idle": "2024-08-26T10:23:10.869016Z",
     "shell.execute_reply": "2024-08-26T10:23:10.866252Z",
     "shell.execute_reply.started": "2024-08-26T09:06:11.176864Z"
    }
   },
   "outputs": [
    {
     "name": "stdout",
     "output_type": "stream",
     "text": [
      "Vreme generisanja feature-a: 4619.67 sekundi\n"
     ]
    }
   ],
   "source": [
    "start_time = time.time()\n",
    "X_train, y_train = generate_features_targets(train_data, best_knn_model, best_svd_model, df_pivot)\n",
    "end_time = time.time()\n",
    "print(f\"Vreme generisanja feature-a: {end_time - start_time:.2f} sekundi\")"
   ]
  },
  {
   "cell_type": "code",
   "execution_count": 8,
   "metadata": {
    "execution": {
     "iopub.execute_input": "2024-08-26T10:23:10.872058Z",
     "iopub.status.busy": "2024-08-26T10:23:10.871602Z",
     "iopub.status.idle": "2024-08-26T10:48:58.273248Z",
     "shell.execute_reply": "2024-08-26T10:48:58.271308Z",
     "shell.execute_reply.started": "2024-08-26T10:23:10.872011Z"
    }
   },
   "outputs": [
    {
     "name": "stdout",
     "output_type": "stream",
     "text": [
      "Vreme generisanja feature-a: 1547.39 sekundi\n"
     ]
    }
   ],
   "source": [
    "start_time = time.time()\n",
    "X_val, y_val = generate_features_targets(val_data, best_knn_model, best_svd_model, df_pivot)\n",
    "end_time = time.time()\n",
    "print(f\"Vreme generisanja feature-a: {end_time - start_time:.2f} sekundi\")"
   ]
  },
  {
   "cell_type": "code",
   "execution_count": 9,
   "metadata": {
    "execution": {
     "iopub.execute_input": "2024-08-26T10:48:58.275973Z",
     "iopub.status.busy": "2024-08-26T10:48:58.275408Z",
     "iopub.status.idle": "2024-08-26T10:49:01.685836Z",
     "shell.execute_reply": "2024-08-26T10:49:01.684630Z",
     "shell.execute_reply.started": "2024-08-26T10:48:58.275930Z"
    }
   },
   "outputs": [
    {
     "name": "stdout",
     "output_type": "stream",
     "text": [
      "   Cust_Id  Rating  Movie_Id\n",
      "0   524869     3.0      4330\n",
      "1  1726226     3.0      1467\n",
      "2   310055     3.0      3522\n",
      "3   680917     4.0      3650\n",
      "4  2631815     4.0      1885\n"
     ]
    }
   ],
   "source": [
    "test_data = pd.read_csv('/kaggle/input/naucno-izracunavanje/test_data.csv')\n",
    "print(test_data.head())"
   ]
  },
  {
   "cell_type": "code",
   "execution_count": 10,
   "metadata": {
    "execution": {
     "iopub.execute_input": "2024-08-26T10:49:01.691683Z",
     "iopub.status.busy": "2024-08-26T10:49:01.691288Z",
     "iopub.status.idle": "2024-08-26T11:05:19.475811Z",
     "shell.execute_reply": "2024-08-26T11:05:19.474481Z",
     "shell.execute_reply.started": "2024-08-26T10:49:01.691644Z"
    }
   },
   "outputs": [
    {
     "name": "stdout",
     "output_type": "stream",
     "text": [
      "Vreme generisanja feature-a: 977.78 sekundi\n"
     ]
    }
   ],
   "source": [
    "start_time = time.time()\n",
    "X_test, y_test = generate_features_targets(test_data, best_knn_model, best_svd_model, df_pivot)\n",
    "end_time = time.time()\n",
    "print(f\"Vreme generisanja feature-a: {end_time - start_time:.2f} sekundi\")"
   ]
  },
  {
   "cell_type": "code",
   "execution_count": 13,
   "metadata": {
    "execution": {
     "iopub.execute_input": "2024-08-26T11:16:02.015947Z",
     "iopub.status.busy": "2024-08-26T11:16:02.015427Z",
     "iopub.status.idle": "2024-08-26T11:19:41.600228Z",
     "shell.execute_reply": "2024-08-26T11:19:41.598523Z",
     "shell.execute_reply.started": "2024-08-26T11:16:02.015904Z"
    }
   },
   "outputs": [],
   "source": [
    "X_train.loc[:, 'target'] = y_train\n",
    "X_val.loc[:, 'target'] = y_val\n",
    "X_test.loc[:, 'target'] = y_test\n",
    "\n",
    "X_train.to_csv('train_features.csv', index=False)\n",
    "X_val.to_csv('val_features.csv', index=False)\n",
    "X_test.to_csv('test_features.csv', index=False)"
   ]
  },
  {
   "cell_type": "code",
   "execution_count": 15,
   "metadata": {
    "execution": {
     "iopub.execute_input": "2024-08-26T11:24:18.995943Z",
     "iopub.status.busy": "2024-08-26T11:24:18.995420Z",
     "iopub.status.idle": "2024-08-26T11:27:05.448106Z",
     "shell.execute_reply": "2024-08-26T11:27:05.446384Z",
     "shell.execute_reply.started": "2024-08-26T11:24:18.995899Z"
    }
   },
   "outputs": [
    {
     "name": "stdout",
     "output_type": "stream",
     "text": [
      "cp: cannot create regular file '/kaggle/input/features.zip': Read-only file system\n"
     ]
    }
   ],
   "source": [
    "import shutil\n",
    "\n",
    "shutil.make_archive('/kaggle/working/features', 'zip', '/kaggle/working', \n",
    "                    'train_features.csv')\n",
    "shutil.make_archive('/kaggle/working/features', 'zip', '/kaggle/working', \n",
    "                    'test_features.csv')\n",
    "shutil.make_archive('/kaggle/working/features', 'zip', '/kaggle/working', \n",
    "                    'val_features.csv')\n",
    "\n",
    "!cp /kaggle/working/features.zip /kaggle/input/"
   ]
  },
  {
   "cell_type": "code",
   "execution_count": 21,
   "metadata": {
    "execution": {
     "iopub.execute_input": "2024-08-26T11:34:57.511638Z",
     "iopub.status.busy": "2024-08-26T11:34:57.511152Z",
     "iopub.status.idle": "2024-08-26T11:34:57.518996Z",
     "shell.execute_reply": "2024-08-26T11:34:57.517924Z",
     "shell.execute_reply.started": "2024-08-26T11:34:57.511565Z"
    }
   },
   "outputs": [
    {
     "name": "stdout",
     "output_type": "stream",
     "text": [
      "/kaggle/working/train_features.csv\n",
      "/kaggle/working/test_features.csv\n",
      "/kaggle/working/features.zip\n",
      "/kaggle/working/val_features.csv\n"
     ]
    }
   ],
   "source": [
    "for dirname, _, filenames in os.walk('/kaggle/working'):\n",
    "    for filename in filenames:\n",
    "        print(os.path.join(dirname, filename))"
   ]
  },
  {
   "cell_type": "code",
   "execution_count": 19,
   "metadata": {
    "execution": {
     "iopub.execute_input": "2024-08-26T11:33:48.713812Z",
     "iopub.status.busy": "2024-08-26T11:33:48.713305Z",
     "iopub.status.idle": "2024-08-26T11:33:48.721191Z",
     "shell.execute_reply": "2024-08-26T11:33:48.720017Z",
     "shell.execute_reply.started": "2024-08-26T11:33:48.713768Z"
    }
   },
   "outputs": [
    {
     "name": "stdout",
     "output_type": "stream",
     "text": [
      "aaa\n"
     ]
    }
   ],
   "source": []
  },
  {
   "cell_type": "code",
   "execution_count": null,
   "metadata": {},
   "outputs": [],
   "source": []
  }
 ],
 "metadata": {
  "kaggle": {
   "accelerator": "none",
   "dataSources": [
    {
     "datasetId": 5589238,
     "sourceId": 9239985,
     "sourceType": "datasetVersion"
    },
    {
     "datasetId": 5592820,
     "sourceId": 9245274,
     "sourceType": "datasetVersion"
    }
   ],
   "dockerImageVersionId": 30761,
   "isGpuEnabled": false,
   "isInternetEnabled": false,
   "language": "python",
   "sourceType": "notebook"
  },
  "kernelspec": {
   "display_name": "Python 3 (ipykernel)",
   "language": "python",
   "name": "python3"
  },
  "language_info": {
   "codemirror_mode": {
    "name": "ipython",
    "version": 3
   },
   "file_extension": ".py",
   "mimetype": "text/x-python",
   "name": "python",
   "nbconvert_exporter": "python",
   "pygments_lexer": "ipython3",
   "version": "3.10.7"
  }
 },
 "nbformat": 4,
 "nbformat_minor": 4
}
