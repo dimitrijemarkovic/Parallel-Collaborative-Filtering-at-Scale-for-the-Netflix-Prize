{
 "cells": [
  {
   "cell_type": "code",
   "execution_count": 1,
   "id": "8b863d2b",
   "metadata": {
    "_cell_guid": "b1076dfc-b9ad-4769-8c92-a6c4dae69d19",
    "_uuid": "8f2839f25d086af736a60e9eeb907d3b93b6e0e5",
    "execution": {
     "iopub.execute_input": "2024-08-25T11:15:26.169522Z",
     "iopub.status.busy": "2024-08-25T11:15:26.169063Z",
     "iopub.status.idle": "2024-08-25T11:15:27.195209Z",
     "shell.execute_reply": "2024-08-25T11:15:27.193872Z"
    },
    "papermill": {
     "duration": 1.035991,
     "end_time": "2024-08-25T11:15:27.198035",
     "exception": false,
     "start_time": "2024-08-25T11:15:26.162044",
     "status": "completed"
    },
    "tags": []
   },
   "outputs": [
    {
     "name": "stdout",
     "output_type": "stream",
     "text": [
      "/kaggle/input/movie-titles-csv/movie_titles.csv\n",
      "/kaggle/input/pivot-table-csv/pivot_table.csv\n",
      "/kaggle/input/naucno-izracunavanje/pivot_table.csv\n",
      "/kaggle/input/naucno-izracunavanje/test_data.csv\n"
     ]
    }
   ],
   "source": [
    "# This Python 3 environment comes with many helpful analytics libraries installed\n",
    "# It is defined by the kaggle/python Docker image: https://github.com/kaggle/docker-python\n",
    "# For example, here's several helpful packages to load\n",
    "\n",
    "import numpy as np # linear algebra\n",
    "import pandas as pd # data processing, CSV file I/O (e.g. pd.read_csv)\n",
    "\n",
    "# Input data files are available in the read-only \"../input/\" directory\n",
    "# For example, running this (by clicking run or pressing Shift+Enter) will list all files under the input directory\n",
    "\n",
    "import os\n",
    "for dirname, _, filenames in os.walk('/kaggle/input'):\n",
    "    for filename in filenames:\n",
    "        print(os.path.join(dirname, filename))\n",
    "\n",
    "# You can write up to 20GB to the current directory (/kaggle/working/) that gets preserved as output when you create a version using \"Save & Run All\" \n",
    "# You can also write temporary files to /kaggle/temp/, but they won't be saved outside of the current session"
   ]
  },
  {
   "cell_type": "code",
   "execution_count": 2,
   "id": "b4062e82",
   "metadata": {
    "execution": {
     "iopub.execute_input": "2024-08-25T11:15:27.209979Z",
     "iopub.status.busy": "2024-08-25T11:15:27.209470Z",
     "iopub.status.idle": "2024-08-25T11:15:27.332007Z",
     "shell.execute_reply": "2024-08-25T11:15:27.330806Z"
    },
    "papermill": {
     "duration": 0.131731,
     "end_time": "2024-08-25T11:15:27.335019",
     "exception": false,
     "start_time": "2024-08-25T11:15:27.203288",
     "status": "completed"
    },
    "tags": []
   },
   "outputs": [],
   "source": [
    "from surprise import Dataset, Reader, KNNBasic, accuracy\n",
    "from surprise.model_selection import train_test_split, GridSearchCV\n",
    "import pickle"
   ]
  },
  {
   "cell_type": "code",
   "execution_count": 3,
   "id": "9fa15a7b",
   "metadata": {
    "execution": {
     "iopub.execute_input": "2024-08-25T11:15:27.346775Z",
     "iopub.status.busy": "2024-08-25T11:15:27.346218Z",
     "iopub.status.idle": "2024-08-25T11:15:48.110111Z",
     "shell.execute_reply": "2024-08-25T11:15:48.108736Z"
    },
    "papermill": {
     "duration": 20.77301,
     "end_time": "2024-08-25T11:15:48.112990",
     "exception": false,
     "start_time": "2024-08-25T11:15:27.339980",
     "status": "completed"
    },
    "tags": []
   },
   "outputs": [
    {
     "name": "stdout",
     "output_type": "stream",
     "text": [
      "Index(['3', '8', '16', '17', '18', '26', '28', '30', '32', '33',\n",
      "       ...\n",
      "       '4472', '4474', '4478', '4479', '4485', '4488', '4490', '4492', '4493',\n",
      "       '4496'],\n",
      "      dtype='object', length=1350)\n"
     ]
    }
   ],
   "source": [
    "import pandas as pd\n",
    "import numpy as np\n",
    "import time\n",
    "df_pivot = pd.read_csv('/kaggle/input/naucno-izracunavanje/pivot_table.csv', index_col=0)\n",
    "print(df_pivot.columns)"
   ]
  },
  {
   "cell_type": "code",
   "execution_count": 4,
   "id": "0123a19e",
   "metadata": {
    "execution": {
     "iopub.execute_input": "2024-08-25T11:15:48.125624Z",
     "iopub.status.busy": "2024-08-25T11:15:48.124640Z",
     "iopub.status.idle": "2024-08-25T11:16:12.664296Z",
     "shell.execute_reply": "2024-08-25T11:16:12.663141Z"
    },
    "papermill": {
     "duration": 24.548957,
     "end_time": "2024-08-25T11:16:12.667234",
     "exception": false,
     "start_time": "2024-08-25T11:15:48.118277",
     "status": "completed"
    },
    "tags": []
   },
   "outputs": [
    {
     "name": "stdout",
     "output_type": "stream",
     "text": [
      "Index(['Cust_Id', 'Movie_Id', 'Rating'], dtype='object')\n"
     ]
    }
   ],
   "source": [
    "df_melt = df_pivot.stack().reset_index().rename(columns={'level_1': 'Movie_Id', 0: 'Rating'})\n",
    "print(df_melt.columns)\n",
    "reader = Reader(rating_scale=(1, 5))\n",
    "data = Dataset.load_from_df(df_melt[['Cust_Id', 'Movie_Id', 'Rating']], reader)"
   ]
  },
  {
   "cell_type": "code",
   "execution_count": 5,
   "id": "15084725",
   "metadata": {
    "execution": {
     "iopub.execute_input": "2024-08-25T11:16:12.679125Z",
     "iopub.status.busy": "2024-08-25T11:16:12.678753Z",
     "iopub.status.idle": "2024-08-25T11:16:48.551460Z",
     "shell.execute_reply": "2024-08-25T11:16:48.550295Z"
    },
    "papermill": {
     "duration": 35.88264,
     "end_time": "2024-08-25T11:16:48.555024",
     "exception": false,
     "start_time": "2024-08-25T11:16:12.672384",
     "status": "completed"
    },
    "tags": []
   },
   "outputs": [],
   "source": [
    "trainset, validset = train_test_split(data, test_size=0.25)"
   ]
  },
  {
   "cell_type": "code",
   "execution_count": 6,
   "id": "3c125a17",
   "metadata": {
    "execution": {
     "iopub.execute_input": "2024-08-25T11:16:48.572827Z",
     "iopub.status.busy": "2024-08-25T11:16:48.571347Z",
     "iopub.status.idle": "2024-08-25T11:16:48.579255Z",
     "shell.execute_reply": "2024-08-25T11:16:48.577344Z"
    },
    "papermill": {
     "duration": 0.02075,
     "end_time": "2024-08-25T11:16:48.582690",
     "exception": false,
     "start_time": "2024-08-25T11:16:48.561940",
     "status": "completed"
    },
    "tags": []
   },
   "outputs": [],
   "source": [
    "similarity_options = {'name': 'cosine', 'user_based': False}\n",
    "best_rmse = float('inf')\n",
    "best_model = None"
   ]
  },
  {
   "cell_type": "code",
   "execution_count": 7,
   "id": "173f730d",
   "metadata": {
    "execution": {
     "iopub.execute_input": "2024-08-25T11:16:48.599686Z",
     "iopub.status.busy": "2024-08-25T11:16:48.598485Z",
     "iopub.status.idle": "2024-08-25T12:14:54.810136Z",
     "shell.execute_reply": "2024-08-25T12:14:54.808693Z"
    },
    "papermill": {
     "duration": 3486.222816,
     "end_time": "2024-08-25T12:14:54.812999",
     "exception": false,
     "start_time": "2024-08-25T11:16:48.590183",
     "status": "completed"
    },
    "tags": []
   },
   "outputs": [
    {
     "name": "stdout",
     "output_type": "stream",
     "text": [
      "Computing the cosine similarity matrix...\n",
      "Done computing similarity matrix.\n",
      "Vreme fitovanja: 50.72 sekundi\n",
      "Vreme predvidjanja: 607.98 sekundi\n",
      "Cosine similarity, k=25, RMSE=0.9662147372207166\n",
      "Computing the cosine similarity matrix...\n",
      "Done computing similarity matrix.\n",
      "Vreme fitovanja: 51.04 sekundi\n",
      "Vreme predvidjanja: 626.56 sekundi\n",
      "Cosine similarity, k=30, RMSE=0.9659693600437901\n",
      "Computing the cosine similarity matrix...\n",
      "Done computing similarity matrix.\n",
      "Vreme fitovanja: 50.28 sekundi\n",
      "Vreme predvidjanja: 646.74 sekundi\n",
      "Cosine similarity, k=35, RMSE=0.9664353736067356\n",
      "Computing the cosine similarity matrix...\n",
      "Done computing similarity matrix.\n",
      "Vreme fitovanja: 48.46 sekundi\n",
      "Vreme predvidjanja: 660.40 sekundi\n",
      "Cosine similarity, k=40, RMSE=0.9673152423381083\n",
      "Computing the cosine similarity matrix...\n",
      "Done computing similarity matrix.\n",
      "Vreme fitovanja: 49.36 sekundi\n",
      "Vreme predvidjanja: 678.93 sekundi\n",
      "Cosine similarity, k=45, RMSE=0.9683218643866824\n"
     ]
    }
   ],
   "source": [
    "for k in [25, 30, 35, 40, 45]:\n",
    "    algo = KNNBasic(k=k, sim_options=similarity_options)\n",
    "    start_time = time.time()\n",
    "    algo.fit(trainset)\n",
    "    end_time = time.time()\n",
    "    print(f\"Vreme fitovanja: {end_time - start_time:.2f} sekundi\")\n",
    "    start_time = time.time()\n",
    "    predictions = algo.test(validset)\n",
    "    end_time = time.time()\n",
    "    print(f\"Vreme predvidjanja: {end_time - start_time:.2f} sekundi\")\n",
    "    rmse = accuracy.rmse(predictions, verbose=False)\n",
    "    print(f'Cosine similarity, k={k}, RMSE={rmse}')\n",
    "    \n",
    "    if rmse < best_rmse:\n",
    "        best_rmse = rmse\n",
    "        best_model = algo\n",
    "        best_params = {'similarity': 'cosine', 'k': k}\n"
   ]
  },
  {
   "cell_type": "code",
   "execution_count": 8,
   "id": "2e1f894a",
   "metadata": {
    "execution": {
     "iopub.execute_input": "2024-08-25T12:14:54.828251Z",
     "iopub.status.busy": "2024-08-25T12:14:54.827866Z",
     "iopub.status.idle": "2024-08-25T13:04:34.091649Z",
     "shell.execute_reply": "2024-08-25T13:04:34.089864Z"
    },
    "papermill": {
     "duration": 2979.276465,
     "end_time": "2024-08-25T13:04:34.096101",
     "exception": false,
     "start_time": "2024-08-25T12:14:54.819636",
     "status": "completed"
    },
    "tags": []
   },
   "outputs": [
    {
     "name": "stdout",
     "output_type": "stream",
     "text": [
      "Computing the pearson similarity matrix...\n",
      "Done computing similarity matrix.\n",
      "Vreme fitovanja: 59.55 sekundi\n",
      "Vreme predvidjanja: 469.03 sekundi\n",
      "Pearson similarity, k=10, RMSE=0.9320613849301539\n",
      "Computing the pearson similarity matrix...\n",
      "Done computing similarity matrix.\n",
      "Vreme fitovanja: 58.49 sekundi\n",
      "Vreme predvidjanja: 511.19 sekundi\n",
      "Pearson similarity, k=15, RMSE=0.9262868955283785\n",
      "Computing the pearson similarity matrix...\n",
      "Done computing similarity matrix.\n",
      "Vreme fitovanja: 59.89 sekundi\n",
      "Vreme predvidjanja: 541.33 sekundi\n",
      "Pearson similarity, k=18, RMSE=0.9258301095399054\n",
      "Computing the pearson similarity matrix...\n",
      "Done computing similarity matrix.\n",
      "Vreme fitovanja: 56.55 sekundi\n",
      "Vreme predvidjanja: 552.38 sekundi\n",
      "Pearson similarity, k=20, RMSE=0.9260191390182299\n",
      "Computing the pearson similarity matrix...\n",
      "Done computing similarity matrix.\n",
      "Vreme fitovanja: 60.58 sekundi\n",
      "Vreme predvidjanja: 595.19 sekundi\n",
      "Pearson similarity, k=25, RMSE=0.9275217141352411\n"
     ]
    }
   ],
   "source": [
    "similarity_options['name'] = 'pearson'\n",
    "for k in [10, 15, 18, 20, 25]:\n",
    "    algo = KNNBasic(k=k, sim_options=similarity_options)\n",
    "    start_time = time.time()\n",
    "    algo.fit(trainset)\n",
    "    end_time = time.time()\n",
    "    print(f\"Vreme fitovanja: {end_time - start_time:.2f} sekundi\")\n",
    "    start_time = time.time()\n",
    "    predictions = algo.test(validset)\n",
    "    end_time = time.time()\n",
    "    print(f\"Vreme predvidjanja: {end_time - start_time:.2f} sekundi\")\n",
    "    rmse = accuracy.rmse(predictions, verbose=False)\n",
    "    print(f'Pearson similarity, k={k}, RMSE={rmse}')\n",
    "    \n",
    "    if rmse < best_rmse:\n",
    "        best_rmse = rmse\n",
    "        best_model = algo\n",
    "        best_params = {'similarity': 'pearson', 'k': k}"
   ]
  },
  {
   "cell_type": "code",
   "execution_count": 9,
   "id": "f6475803",
   "metadata": {
    "execution": {
     "iopub.execute_input": "2024-08-25T13:04:34.116286Z",
     "iopub.status.busy": "2024-08-25T13:04:34.115866Z",
     "iopub.status.idle": "2024-08-25T13:04:49.712409Z",
     "shell.execute_reply": "2024-08-25T13:04:49.711170Z"
    },
    "papermill": {
     "duration": 15.610564,
     "end_time": "2024-08-25T13:04:49.715110",
     "exception": false,
     "start_time": "2024-08-25T13:04:34.104546",
     "status": "completed"
    },
    "tags": []
   },
   "outputs": [
    {
     "name": "stdout",
     "output_type": "stream",
     "text": [
      "Najbolji model koristi pearson sličnost sa k=18 i RMSE=0.9258301095399054\n"
     ]
    }
   ],
   "source": [
    "with open('best_knn_model.pkl', 'wb') as f:\n",
    "    pickle.dump(best_model, f)\n",
    "\n",
    "print(f'Najbolji model koristi {best_params[\"similarity\"]} sličnost sa k={best_params[\"k\"]} i RMSE={best_rmse}')\n"
   ]
  },
  {
   "cell_type": "code",
   "execution_count": 10,
   "id": "270e18bb",
   "metadata": {
    "execution": {
     "iopub.execute_input": "2024-08-25T13:04:49.733549Z",
     "iopub.status.busy": "2024-08-25T13:04:49.733137Z",
     "iopub.status.idle": "2024-08-25T13:06:41.531121Z",
     "shell.execute_reply": "2024-08-25T13:06:41.530029Z"
    },
    "papermill": {
     "duration": 111.818128,
     "end_time": "2024-08-25T13:06:41.541562",
     "exception": false,
     "start_time": "2024-08-25T13:04:49.723434",
     "status": "completed"
    },
    "tags": []
   },
   "outputs": [
    {
     "name": "stdout",
     "output_type": "stream",
     "text": [
      "RMSE: 1.0623\n"
     ]
    }
   ],
   "source": [
    "test_data = pd.read_csv('/kaggle/input/naucno-izracunavanje/test_data.csv')\n",
    "test_data = Dataset.load_from_df(test_data[['Cust_Id', 'Movie_Id', 'Rating']], reader)\n",
    "testset = test_data.build_full_trainset().build_testset()\n",
    "\n",
    "with open('best_knn_model.pkl', 'rb') as f:\n",
    "    best_model = pickle.load(f)\n",
    "\n",
    "predictions = best_model.test(testset)\n",
    "final_rmse = accuracy.rmse(predictions)"
   ]
  },
  {
   "cell_type": "code",
   "execution_count": null,
   "id": "90412695",
   "metadata": {
    "papermill": {
     "duration": 0.008124,
     "end_time": "2024-08-25T13:06:41.557897",
     "exception": false,
     "start_time": "2024-08-25T13:06:41.549773",
     "status": "completed"
    },
    "tags": []
   },
   "outputs": [],
   "source": []
  }
 ],
 "metadata": {
  "kaggle": {
   "accelerator": "none",
   "dataSources": [
    {
     "datasetId": 5547331,
     "sourceId": 9178491,
     "sourceType": "datasetVersion"
    },
    {
     "datasetId": 5552290,
     "sourceId": 9185400,
     "sourceType": "datasetVersion"
    },
    {
     "datasetId": 5589238,
     "sourceId": 9239985,
     "sourceType": "datasetVersion"
    }
   ],
   "dockerImageVersionId": 30746,
   "isGpuEnabled": false,
   "isInternetEnabled": false,
   "language": "python",
   "sourceType": "notebook"
  },
  "kernelspec": {
   "display_name": "Python 3",
   "language": "python",
   "name": "python3"
  },
  "language_info": {
   "codemirror_mode": {
    "name": "ipython",
    "version": 3
   },
   "file_extension": ".py",
   "mimetype": "text/x-python",
   "name": "python",
   "nbconvert_exporter": "python",
   "pygments_lexer": "ipython3",
   "version": "3.10.13"
  },
  "papermill": {
   "default_parameters": {},
   "duration": 6682.373334,
   "end_time": "2024-08-25T13:06:44.917098",
   "environment_variables": {},
   "exception": null,
   "input_path": "__notebook__.ipynb",
   "output_path": "__notebook__.ipynb",
   "parameters": {},
   "start_time": "2024-08-25T11:15:22.543764",
   "version": "2.5.0"
  }
 },
 "nbformat": 4,
 "nbformat_minor": 5
}
